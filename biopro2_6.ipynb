{
 "cells": [
  {
   "cell_type": "markdown",
   "metadata": {
    "id": "6G8NgD9AEX6U"
   },
   "source": [
    "# バイオプログラミング第2 第五回演習"
   ]
  },
  {
   "cell_type": "markdown",
   "metadata": {
    "id": "OeQZmZTZuD7U"
   },
   "source": [
    "## 課題1\n",
    "次の連立方程式をnumpyを使って解け。\n",
    "$$\n",
    "\\left\\{\n",
    "  \\begin{array}{rcl}\n",
    "    2x - 3y + z &=& 1 \\\\\n",
    "    x + 2y - 3z &=& 4 \\\\\n",
    "    3x + 2y - z &=& 5\n",
    "  \\end{array}\n",
    "\\right.\n",
    "$$"
   ]
  },
  {
   "cell_type": "code",
   "execution_count": 1,
   "metadata": {
    "id": "_YIZHuYOtEAF"
   },
   "outputs": [
    {
     "data": {
      "text/plain": [
       "array([ 1.25,  0.25, -0.75])"
      ]
     },
     "execution_count": 1,
     "metadata": {},
     "output_type": "execute_result"
    }
   ],
   "source": [
    "import numpy as np\n",
    "\n",
    "# Coefficient matrix (A) and right-hand side vector (b)\n",
    "A = np.array([[2, -3, 1],\n",
    "              [1, 2, -3],\n",
    "              [3, 2, -1]])\n",
    "b = np.array([1, 4, 5])\n",
    "\n",
    "# Solve the system of linear equations\n",
    "solution = np.linalg.solve(A, b)\n",
    "solution"
   ]
  },
  {
   "cell_type": "markdown",
   "metadata": {
    "id": "bxD_igSqH9pX"
   },
   "source": [
    "## 課題2\n",
    "以下の3つの行基本変形を、正則行列を左からかけることで実現する関数をそれぞれ作成せよ。\n",
    "\n",
    "1. *i* 行目と *j* 行目を交換する\n",
    "2. *i* 行目を *c* 倍する（*c*≠0)\n",
    "3. *j* 行目の *c* 倍を *i* 行目に加える\n",
    "\n",
    "ただし、関数の引数には *i, j, c* 及び変形を行う numpy 行列を指定せよ (numpy 行列は 3 つの関数を内包するクラスのインスタンス変数としても良い)。また、変形を行う numpy 行列の大きさは可変とする（次元は 2）。\n",
    "\n",
    "> 出力例:\n",
    "```python\n",
    ">> A = np.arange(12).reshape((3, 4))  # 変形を行う行列\n",
    ">> EM = elementary_matrix(A)  # インスタンス生成\n",
    ">> EM.trans1(1, 2)  # 行基本変形(1)\n",
    "array([[ 0.,  1.,  2.,  3.],\n",
    "       [ 8.,  9., 10., 11.],\n",
    "       [ 4.,  5.,  6.,  7.]])\n",
    "```\n",
    "\n",
    "> ***ヒント***  \n",
    "> * 生命系の数学の授業で学習したように行基本変形の際にかける正則行列はそれぞれ以下の性質を持つ。\n",
    ">   1. 単位行列の *i* 行と *j* 行を交換した行列\n",
    ">   2. 単位行列の *ii* 成分を *c* とした行列\n",
    ">   3. 単位行列の *ij* 成分を *c* とした行列\n",
    ">\n",
    "> * ndarrayをコピーして別の ndarray として扱うには、`numpy.copy` を使用する。Python の代入は参照そのものがコピーされるため変数名を変更したのと同義となる。\n",
    "```python\n",
    "# 直接代入した場合\n",
    ">> x = np.arange(5)\n",
    ">> y = x\n",
    ">> y[0] = 100\n",
    ">> x\n",
    "array([100, 1, 2, 3, 4])\n",
    "\n",
    "# copy を利用\n",
    ">> x = np.arange(5)\n",
    ">> y = np.copy(x)\n",
    ">> y[0] = 100\n",
    ">> x\n",
    "array([0, 1, 2, 3, 4])\n",
    "```\n",
    "```"
   ]
  },
  {
   "cell_type": "code",
   "execution_count": 5,
   "metadata": {
    "id": "lD6AeLmfs4Mr"
   },
   "outputs": [],
   "source": [
    "import numpy as np\n",
    "\n",
    "class ElementaryMatrix:\n",
    "    def __init__(self, matrix):\n",
    "        # 変形対象の行列をコピーして保存\n",
    "        self.original_matrix = matrix  # 元の行列を保持する\n",
    "    \n",
    "    def trans1(self, i, j):\n",
    "        \"\"\"i 行目と j 行目を交換する\"\"\"\n",
    "        # 元の行列をコピーして新しい行列を作成\n",
    "        matrix = np.copy(self.original_matrix)\n",
    "        n = matrix.shape[0]\n",
    "        P = np.eye(n)\n",
    "        P[[i, j]] = P[[j, i]]  # i 行目と j 行目を交換\n",
    "        # 正則行列を左から掛けて変形\n",
    "        return P @ matrix\n",
    "\n",
    "    def trans2(self, i, c):\n",
    "        \"\"\"i 行目を c 倍する (c ≠ 0)\"\"\"\n",
    "        # 元の行列をコピーして新しい行列を作成\n",
    "        matrix = np.copy(self.original_matrix)\n",
    "        n = matrix.shape[0]\n",
    "        P = np.eye(n)\n",
    "        P[i, i] = c  # i 行の対角成分を c に設定\n",
    "        # 正則行列を左から掛けて変形\n",
    "        return P @ matrix\n",
    "\n",
    "    def trans3(self, i, j, c):\n",
    "        \"\"\"j 行目の c 倍を i 行目に加える\"\"\"\n",
    "        # 元の行列をコピーして新しい行列を作成\n",
    "        matrix = np.copy(self.original_matrix)\n",
    "        n = matrix.shape[0]\n",
    "        P = np.eye(n)\n",
    "        P[i, j] = c  # j 行の c 倍を i 行に加える\n",
    "        # 正則行列を左から掛けて変形\n",
    "        return P @ matrix\n"
   ]
  },
  {
   "cell_type": "code",
   "execution_count": 6,
   "metadata": {},
   "outputs": [
    {
     "name": "stdout",
     "output_type": "stream",
     "text": [
      "1行目と2行目を交換:\n",
      "[[ 0.  1.  2.  3.]\n",
      " [ 8.  9. 10. 11.]\n",
      " [ 4.  5.  6.  7.]]\n",
      "\n",
      "1行目を2倍:\n",
      "[[ 0.  1.  2.  3.]\n",
      " [ 8. 10. 12. 14.]\n",
      " [ 8.  9. 10. 11.]]\n",
      "\n",
      "2行目の3倍を0行目に加える:\n",
      "[[24. 28. 32. 36.]\n",
      " [ 4.  5.  6.  7.]\n",
      " [ 8.  9. 10. 11.]]\n"
     ]
    }
   ],
   "source": [
    "# 例として3×4の行列を作成\n",
    "A = np.arange(12).reshape((3, 4))\n",
    "\n",
    "# インスタンス生成\n",
    "EM = ElementaryMatrix(A)\n",
    "\n",
    "# 行基本変形 (1): 1行目と2行目の交換\n",
    "print(\"1行目と2行目を交換:\")\n",
    "print(EM.trans1(1, 2))\n",
    "\n",
    "# 行基本変形 (2): 1行目を2倍する\n",
    "print(\"\\n1行目を2倍:\")\n",
    "print(EM.trans2(1, 2))\n",
    "\n",
    "# 行基本変形 (3): 2行目の3倍を0行目に加える\n",
    "print(\"\\n2行目の3倍を0行目に加える:\")\n",
    "print(EM.trans3(0, 2, 3))\n"
   ]
  },
  {
   "cell_type": "markdown",
   "metadata": {},
   "source": [
    "## 考察"
   ]
  },
  {
   "cell_type": "markdown",
   "metadata": {},
   "source": []
  }
 ],
 "metadata": {
  "colab": {
   "collapsed_sections": [],
   "name": "biopro2_5.ipynb",
   "provenance": []
  },
  "kernelspec": {
   "display_name": "Python 3",
   "name": "python3"
  },
  "language_info": {
   "codemirror_mode": {
    "name": "ipython",
    "version": 3
   },
   "file_extension": ".py",
   "mimetype": "text/x-python",
   "name": "python",
   "nbconvert_exporter": "python",
   "pygments_lexer": "ipython3",
   "version": "3.12.1"
  }
 },
 "nbformat": 4,
 "nbformat_minor": 0
}
