{
 "cells": [
  {
   "cell_type": "markdown",
   "metadata": {
    "colab_type": "text",
    "id": "6G8NgD9AEX6U"
   },
   "source": [
    "# バイオプログラミング第2 第三回演習課題"
   ]
  },
  {
   "cell_type": "markdown",
   "metadata": {},
   "source": [
    "# 課題1\n",
    "次の塩基配列から全ての3-mer(連続する3つの塩基群)を重複無しで出力せよ．  \n",
    "\"AGCTGAGCGCACTGA\"\n",
    ">***ヒント*** \n",
    "* まずは全ての3-merをlistに格納してみよう．"
   ]
  },
  {
   "cell_type": "code",
   "execution_count": 1,
   "metadata": {},
   "outputs": [
    {
     "name": "stdout",
     "output_type": "stream",
     "text": [
      "重複無しの3-mer: {'CGC', 'CAC', 'ACT', 'CTG', 'AGC', 'GCG', 'GAG', 'TGA', 'GCT', 'GCA'}\n"
     ]
    }
   ],
   "source": [
    "# 塩基配列を定義\n",
    "sequence = \"AGCTGAGCGCACTGA\"\n",
    "\n",
    "# 3-merを格納するためのリストを初期化\n",
    "three_mers = []\n",
    "\n",
    "# 配列を3-merごとに分割してリストに格納\n",
    "for i in range(len(sequence) - 2):\n",
    "    # 連続する3つの塩基をリストに追加\n",
    "    three_mers.append(sequence[i:i+3])\n",
    "\n",
    "# リストから重複を排除するためにsetに変換\n",
    "unique_three_mers = set(three_mers)\n",
    "\n",
    "# 重複無しの3-merを出力\n",
    "print(\"重複無しの3-mer:\", unique_three_mers)"
   ]
  },
  {
   "cell_type": "markdown",
   "metadata": {},
   "source": [
    "## 課題2\n",
    "以下に示した辞書をキーを元にソートし、キーと対応する値を羅列せよ.\n",
    "```python:\n",
    "dict = {15:\"yoshinobu\", 3:\"iemitsu\", 5:\"tsunayoshi\", 8:\"yoshimune\", 1:\"ieyasu\"}\n",
    "```\n",
    ">出力例:  \n",
    "(1, 'ieyasu'), (3, 'iemitsu'), (5, 'tsunayoshi'), (8, 'yoshimune'), (15, 'yoshinobu')\n",
    "\n",
    ">***ヒント*** \n",
    "* ***items()***(キーと値のペア)に対してソートを行った場合、キーについてソートが行われる．\n",
    "* ソートについては前回のスライドを確認しよう"
   ]
  },
  {
   "cell_type": "code",
   "execution_count": 2,
   "metadata": {},
   "outputs": [
    {
     "name": "stdout",
     "output_type": "stream",
     "text": [
      "ソートされた結果: [(1, 'ieyasu'), (3, 'iemitsu'), (5, 'tsunayoshi'), (8, 'yoshimune'), (15, 'yoshinobu')]\n"
     ]
    }
   ],
   "source": [
    "# 辞書を定義\n",
    "shogun_dict = {15: \"yoshinobu\", 3: \"iemitsu\", 5: \"tsunayoshi\", 8: \"yoshimune\", 1: \"ieyasu\"}\n",
    "\n",
    "# items()メソッドでキーと値のペアを取得し、キーでソート\n",
    "sorted_shogun = sorted(shogun_dict.items())\n",
    "\n",
    "# ソート結果を出力\n",
    "print(\"ソートされた結果:\", sorted_shogun)"
   ]
  },
  {
   "cell_type": "markdown",
   "metadata": {
    "colab_type": "text",
    "id": "bxD_igSqH9pX"
   },
   "source": [
    "## 課題3\n",
    "\n",
    "data03_1.txtというファイルを講義ホームページよりダウンロードし、ファイルからデータを読み込んだ上で年齢、身長、体重の平均値を計算して出力せよ．\n",
    "\n",
    "> data03_1.txt\n",
    "Scarlett Johansson 33 160 50  \n",
    "Nicole Kidman 50 180 58  \n",
    "Jessica Chastain 41 163 56  \n",
    "Julianne Moore 57 163 54  \n",
    "Natalie Portman 36 160 50  \n",
    "Alicia Vikander 29 168 53 \n",
    "\n",
    ">***ヒント*** \n",
    "* jupyterでは感嘆符(!)を使用することでlinuxのコマンドを使用できる．\"wget\"コマンドはURLを指定してファイルをダウンロードするコマンドである．\n",
    "\n"
   ]
  },
  {
   "cell_type": "code",
   "execution_count": 3,
   "metadata": {
    "colab": {},
    "colab_type": "code",
    "id": "oj9lUMXrFPM7"
   },
   "outputs": [
    {
     "name": "stdout",
     "output_type": "stream",
     "text": [
      "--2024-11-06 02:26:25--  https://keio-bioinformatics.github.io/biopro2/data/data03_1.txt\n",
      "Resolving keio-bioinformatics.github.io (keio-bioinformatics.github.io)... 185.199.108.153, 185.199.109.153, 185.199.110.153, ...\n",
      "Connecting to keio-bioinformatics.github.io (keio-bioinformatics.github.io)|185.199.108.153|:443... connected.\n",
      "HTTP request sent, awaiting response... 200 OK\n",
      "Length: 157 [text/plain]\n",
      "Saving to: ‘data03_1.txt’\n",
      "\n",
      "data03_1.txt        100%[===================>]     157  --.-KB/s    in 0s      \n",
      "\n",
      "2024-11-06 02:26:25 (8.10 MB/s) - ‘data03_1.txt’ saved [157/157]\n",
      "\n"
     ]
    }
   ],
   "source": [
    "#ファイルのダウンロード\n",
    "!wget https://keio-bioinformatics.github.io/biopro2/data/data03_1.txt"
   ]
  },
  {
   "cell_type": "code",
   "execution_count": 4,
   "metadata": {
    "colab": {},
    "colab_type": "code",
    "id": "ik8ZWyw-7a96"
   },
   "outputs": [
    {
     "name": "stdout",
     "output_type": "stream",
     "text": [
      "年齢の平均: 41.00\n",
      "身長の平均: 165.67\n",
      "体重の平均: 53.50\n"
     ]
    }
   ],
   "source": [
    "# ファイルを読み込む\n",
    "with open(\"data03_1.txt\", \"r\") as file:\n",
    "    # 年齢、身長、体重を格納するリストを初期化\n",
    "    ages = []\n",
    "    heights = []\n",
    "    weights = []\n",
    "    \n",
    "    # ファイルの各行を読み込む\n",
    "    for line in file:\n",
    "        # 各行を空白で分割してデータを抽出\n",
    "        data = line.split()\n",
    "        # 名前以外の数値データを抽出してリストに追加\n",
    "        ages.append(int(data[2]))      # 年齢\n",
    "        heights.append(int(data[3]))   # 身長\n",
    "        weights.append(int(data[4]))   # 体重\n",
    "\n",
    "# 平均値を計算\n",
    "average_age = sum(ages) / len(ages)\n",
    "average_height = sum(heights) / len(heights)\n",
    "average_weight = sum(weights) / len(weights)\n",
    "\n",
    "# 平均値を出力\n",
    "print(f\"年齢の平均: {average_age:.2f}\")\n",
    "print(f\"身長の平均: {average_height:.2f}\")\n",
    "print(f\"体重の平均: {average_weight:.2f}\")"
   ]
  },
  {
   "cell_type": "markdown",
   "metadata": {
    "colab_type": "text",
    "id": "3UZN7ZIxIBMq"
   },
   "source": [
    "## 課題4\n",
    "ユーザーから複数の単語をスペース区切りで入力させ、禁止語を指定した単語に置き換えた後、指定した区切り文字で結合して表示するプログラムを作成せよ。\n",
    "\n",
    "- 禁止語リスト: `['bad', 'ugly']`\n",
    "- 置き換え後の単語: `'***'`\n",
    "- 結合する際の区切り文字: `'-'`\n",
    "\n",
    "\n",
    "### 入力例\n",
    "```\n",
    "Please enter words: good bad beautiful ugly nice\n",
    "```\n",
    "\n",
    "### 出力例\n",
    "```\n",
    "good-***-beautiful-***-nice\n",
    "```"
   ]
  },
  {
   "cell_type": "code",
   "execution_count": 5,
   "metadata": {
    "colab": {},
    "colab_type": "code",
    "id": "-nM7vwBz7eGr"
   },
   "outputs": [
    {
     "name": "stdout",
     "output_type": "stream",
     "text": [
      "good-***-beautiful-***-nice\n"
     ]
    }
   ],
   "source": [
    "# 禁止語リストと置き換え後の単語を定義\n",
    "forbidden_words = ['bad', 'ugly']\n",
    "replacement_word = '***'\n",
    "delimiter = '-'\n",
    "\n",
    "# ユーザーからの入力を受け取る\n",
    "user_input = input(\"Please enter words: \")\n",
    "\n",
    "# 入力をスペースで区切り、各単語をリストとして取得\n",
    "words = user_input.split()\n",
    "\n",
    "# 禁止語を置き換える処理\n",
    "processed_words = []\n",
    "for word in words:\n",
    "    if word in forbidden_words:\n",
    "        # 禁止語なら置き換え後の単語を追加\n",
    "        processed_words.append(replacement_word)\n",
    "    else:\n",
    "        # 禁止語でなければそのまま追加\n",
    "        processed_words.append(word)\n",
    "\n",
    "# 指定した区切り文字で結合して出力\n",
    "output = delimiter.join(processed_words)\n",
    "print(output)"
   ]
  },
  {
   "cell_type": "markdown",
   "metadata": {
    "colab_type": "text",
    "id": "KpdG6f5oNvqr"
   },
   "source": [
    "## 考察"
   ]
  },
  {
   "cell_type": "markdown",
   "metadata": {
    "colab_type": "text",
    "id": "VbQpArvhN52r"
   },
   "source": []
  }
 ],
 "metadata": {
  "colab": {
   "collapsed_sections": [],
   "name": "biopro2_3.ipynb",
   "provenance": []
  },
  "kernelspec": {
   "display_name": "Python 3",
   "name": "python3"
  },
  "language_info": {
   "codemirror_mode": {
    "name": "ipython",
    "version": 3
   },
   "file_extension": ".py",
   "mimetype": "text/x-python",
   "name": "python",
   "nbconvert_exporter": "python",
   "pygments_lexer": "ipython3",
   "version": "3.12.1"
  }
 },
 "nbformat": 4,
 "nbformat_minor": 0
}
