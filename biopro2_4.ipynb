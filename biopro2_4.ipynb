{
 "cells": [
  {
   "cell_type": "markdown",
   "metadata": {
    "colab_type": "text",
    "id": "6G8NgD9AEX6U"
   },
   "source": [
    "# バイオプログラミング第2 第四回演習課題"
   ]
  },
  {
   "cell_type": "markdown",
   "metadata": {
    "colab_type": "text",
    "id": "bxD_igSqH9pX"
   },
   "source": [
    "## 課題\n",
    "次の要件を満たすプログラムを作成しなさい。\n",
    "\n",
    "1. **フィボナッチ数列**を計算する関数`fib(n)`を定義し、`n`までのフィボナッチ数列をリストとして返すようにしなさい。この関数は`fibo`という名前の**別のPythonファイル**に保存すること。`fibo.py`という名前で保存し、メインのプログラムからインポートして使用できるようにしなさい。\n",
    "\n",
    "2. `fibo`モジュールを用いて、**クラス AdvancedFibonacci**を新たに定義しなさい。このクラスは次の機能を持つ：\n",
    "   - `__init__(self, n)`：`n`までのフィボナッチ数列を生成し、内部で保持する。\n",
    "   - `calculate_sum(self)`：保持しているフィボナッチ数列の合計を計算し、インスタンス変数`self.total_sum`に保存する。\n",
    "   - `average(self)`：`self.total_sum`を使用して、保持しているフィボナッチ数列の平均を計算し返すメソッド。\n",
    "   - `find_closest_value(self, value)`：指定された数値`value`に最も近いフィボナッチ数を`self.series`から検索し、その数値とインデックスをタプルで返すメソッド。\n",
    "\n",
    "3. `find_closest_value`における`min`関数と`abs`関数の使用法：\n",
    "   - **`min`関数**: 与えられたリストや値の中から、最小の値を返します。例：`min([3, 5, 2])`は`2`を返します。\n",
    "   - **`abs`関数**: 引数に与えられた数値の絶対値を返します。例：`abs(-3)`は`3`を返します。\n",
    "\n",
    "4. `AdvancedFibonacci`クラスを使って次の処理を行うプログラムを作成しなさい。\n",
    "   - インスタンスを生成し、`calculate_sum()`を呼び出してフィボナッチ数列の合計を計算する。\n",
    "   - `average()`を用いてフィボナッチ数列の平均を表示する。\n",
    "   - `find_closest_value()`を用いて、100と200に最も近いフィボナッチ数をそれぞれ検索し、結果を表示する。"
   ]
  },
  {
   "cell_type": "code",
   "execution_count": 2,
   "metadata": {},
   "outputs": [
    {
     "name": "stdout",
     "output_type": "stream",
     "text": [
      "フィボナッチ数列の平均: 547.25\n",
      "100に最も近いフィボナッチ数: (89, 11)\n",
      "200に最も近いフィボナッチ数: (233, 13)\n"
     ]
    }
   ],
   "source": [
    "# fiboモジュールからfib関数をインポート\n",
    "from fibo import fib\n",
    "\n",
    "class AdvancedFibonacci:\n",
    "    def __init__(self, n):\n",
    "        \"\"\"フィボナッチ数列を生成し、インスタンス変数に格納\"\"\"\n",
    "        self.series = fib(n)\n",
    "        self.total_sum = 0\n",
    "\n",
    "    def calculate_sum(self):\n",
    "        \"\"\"フィボナッチ数列の合計を計算し、self.total_sumに保存\"\"\"\n",
    "        self.total_sum = sum(self.series)\n",
    "    \n",
    "    def average(self):\n",
    "        \"\"\"フィボナッチ数列の平均を返す\"\"\"\n",
    "        if len(self.series) == 0:\n",
    "            return 0\n",
    "        return self.total_sum / len(self.series)\n",
    "    \n",
    "    def find_closest_value(self, value):\n",
    "        \"\"\"指定された値に最も近いフィボナッチ数を返す\"\"\"\n",
    "        closest = self.series[0]\n",
    "        min_diff = abs(closest - value)\n",
    "        \n",
    "        for num in self.series:\n",
    "            diff = abs(num - value)\n",
    "            if diff < min_diff:\n",
    "                min_diff = diff\n",
    "                closest = num\n",
    "        \n",
    "        index = self.series.index(closest)\n",
    "        return (closest, index)\n",
    "\n",
    "# AdvancedFibonacciクラスを使用する部分\n",
    "\n",
    "# インスタンスを生成\n",
    "advanced_fib = AdvancedFibonacci(20)  # 例えば20個のフィボナッチ数列を生成\n",
    "\n",
    "# 合計を計算\n",
    "advanced_fib.calculate_sum()\n",
    "\n",
    "# 平均を計算して表示\n",
    "print(\"フィボナッチ数列の平均:\", advanced_fib.average())\n",
    "\n",
    "# 100に最も近いフィボナッチ数を検索\n",
    "closest_to_100 = advanced_fib.find_closest_value(100)\n",
    "print(\"100に最も近いフィボナッチ数:\", closest_to_100)\n",
    "\n",
    "# 200に最も近いフィボナッチ数を検索\n",
    "closest_to_200 = advanced_fib.find_closest_value(200)\n",
    "print(\"200に最も近いフィボナッチ数:\", closest_to_200)"
   ]
  },
  {
   "cell_type": "markdown",
   "metadata": {
    "colab_type": "text",
    "id": "KpdG6f5oNvqr"
   },
   "source": [
    "## 考察"
   ]
  },
  {
   "cell_type": "markdown",
   "metadata": {
    "colab_type": "text",
    "id": "VbQpArvhN52r"
   },
   "source": []
  }
 ],
 "metadata": {
  "colab": {
   "collapsed_sections": [],
   "name": "biopro2_4.ipynb",
   "provenance": []
  },
  "kernelspec": {
   "display_name": "Python 3",
   "name": "python3"
  },
  "language_info": {
   "codemirror_mode": {
    "name": "ipython",
    "version": 3
   },
   "file_extension": ".py",
   "mimetype": "text/x-python",
   "name": "python",
   "nbconvert_exporter": "python",
   "pygments_lexer": "ipython3",
   "version": "3.12.1"
  }
 },
 "nbformat": 4,
 "nbformat_minor": 0
}
