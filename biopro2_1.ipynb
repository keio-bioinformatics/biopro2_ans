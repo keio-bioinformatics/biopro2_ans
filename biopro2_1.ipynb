{
  "cells": [
    {
      "cell_type": "markdown",
      "metadata": {
        "id": "6G8NgD9AEX6U"
      },
      "source": [
        "# バイオプログラミング第2 第一回演習課題"
      ]
    },
    {
      "cell_type": "markdown",
      "metadata": {
        "id": "bxD_igSqH9pX"
      },
      "source": [
        "## 課題1\n",
        "\n",
        "print関数を使用して下記を出力せよ\n",
        "```\n",
        "Hello, World!\n",
        "Bonjour le monde!\n",
        "```"
      ]
    },
    {
      "cell_type": "code",
      "execution_count": 1,
      "metadata": {
        "id": "oj9lUMXrFPM7"
      },
      "outputs": [
        {
          "name": "stdout",
          "output_type": "stream",
          "text": [
            "Hello, World!\n",
            "Bonjour le monde!\n"
          ]
        }
      ],
      "source": [
        "print(\"Hello, World!\")\n",
        "print(\"Bonjour le monde!\")"
      ]
    },
    {
      "cell_type": "markdown",
      "metadata": {
        "id": "3UZN7ZIxIBMq"
      },
      "source": [
        "## 課題2\n",
        "\n",
        "1. 変数xに\"Hello\"を入れ、その変数を出力せよ\n",
        "2. 変数yにに\"World\"を入れ、その変数を出力せよ\n",
        "3. 変数x及びyを用いて\"Hello World\"を出力せよ\n",
        "\n",
        ">***ヒント*** \n",
        "* 複数の変数を出力する場合は変数をカンマで結合する\n",
        "* 文字列の結合は\"+\"でも可能\n"
      ]
    },
    {
      "cell_type": "code",
      "execution_count": 2,
      "metadata": {
        "id": "SBXZkgcpRXAZ"
      },
      "outputs": [
        {
          "name": "stdout",
          "output_type": "stream",
          "text": [
            "Hello\n",
            "World\n",
            "Hello World\n",
            "Hello World\n"
          ]
        }
      ],
      "source": [
        "# 1. 変数xに\"Hello\"を入れて出力\n",
        "x = \"Hello\"\n",
        "print(x)\n",
        "\n",
        "# 2. 変数yに\"World\"を入れて出力\n",
        "y = \"World\"\n",
        "print(y)\n",
        "\n",
        "# 3. 変数xおよびyを用いて\"Hello World\"を出力\n",
        "# 方法1: カンマで結合\n",
        "print(x, y)\n",
        "\n",
        "# 方法2: \"+\"で文字列を結合\n",
        "print(x + \" \" + y)"
      ]
    },
    {
      "cell_type": "markdown",
      "metadata": {
        "id": "5GEOVkcDT5Bv"
      },
      "source": [
        "## 課題3\n",
        "\n",
        "\n",
        "整数a = 3及び実数 b = 1.2 をそれぞれ定義し、以下の操作をせよ\n",
        "1. a × b を計算し、表示せよ。\n",
        "2. 2 ÷ a を計算し、表示せよ。\n",
        "3. 2.0 ÷ a を計算し、表示せよ。\n",
        "4. a に b を代入し、a を表示せよ。\n",
        "\n",
        ">***ヒント*** \n",
        "* pythonでは型を明示的に定義する必要がない(動的型付け)\n",
        "* C言語の場合と比べて計算結果の異なる場合がある"
      ]
    },
    {
      "cell_type": "code",
      "execution_count": 3,
      "metadata": {
        "id": "sQCBQ9jbaUh1"
      },
      "outputs": [
        {
          "name": "stdout",
          "output_type": "stream",
          "text": [
            "3.5999999999999996\n",
            "0.6666666666666666\n",
            "0.6666666666666666\n",
            "1.2\n"
          ]
        }
      ],
      "source": [
        "# 整数aと実数bの定義\n",
        "a = 3\n",
        "b = 1.2\n",
        "\n",
        "# 1. a × b を計算し、表示\n",
        "print(a * b)\n",
        "\n",
        "# 2. 2 ÷ a を計算し、表示\n",
        "print(2 / a)\n",
        "\n",
        "# 3. 2.0 ÷ a を計算し、表示\n",
        "print(2.0 / a)\n",
        "\n",
        "# 4. aにbを代入し、aを表示\n",
        "a = b\n",
        "print(a)"
      ]
    },
    {
      "cell_type": "markdown",
      "metadata": {
        "id": "hUZBtgpJubkx"
      },
      "source": [
        "# 考察"
      ]
    },
    {
      "cell_type": "markdown",
      "metadata": {},
      "source": [
        "PythonとC言語で答えが異なるのは、以下の部分です。\n",
        "\n",
        "### 2. 2 ÷ a を計算し、表示せよ。\n",
        "- **Python**: `2 / 3` は `0.666...` のように浮動小数点数（実数）として扱われ、結果も浮動小数点になります。\n",
        "- **C言語**: `2 / 3` は両方とも整数型として扱われるため、整数除算が行われ、結果は `0` となります。\n",
        "\n",
        "C言語では、整数同士の除算は結果も整数になるため、`2 / 3` は `0` となり、Pythonのように小数部分を含む結果は得られません。\n",
        "\n",
        "### 3. 2.0 ÷ a を計算し、表示せよ。\n",
        "- **Python**: `2.0 / 3` は浮動小数点数として扱われるため、結果は `0.666...` になります。\n",
        "- **C言語**: `2.0 / 3` も少数が関わる計算なので、結果は `0.666...` となり、Pythonと同じです。\n",
        "\n",
        "### 4. a に b を代入し、a を表示せよ。\n",
        "- **Python**: Pythonは動的型付けのため、`a` が整数型でも、`b`（実数型）を代入することができ、その後 `a` は `1.2` という実数になります。\n",
        "- **C言語**: C言語では `a` は最初に整数型として定義されているため、`a = b;` のように代入すると、`a` は整数型のままです。この場合、`b` の値 `1.2` は整数に変換され、小数点以下が切り捨てられて `1` が代入されます。\n",
        "\n",
        "### まとめ\n",
        "- **2 ÷ a** ではPythonとC言語で異なる結果になります（Pythonは浮動小数点、C言語は整数）。\n",
        "- **a = b** の操作では、Pythonは型が動的に変わりますが、C言語では型の変換が必要で、小数部分が切り捨てられます。"
      ]
    }
  ],
  "metadata": {
    "colab": {
      "collapsed_sections": [],
      "provenance": []
    },
    "kernelspec": {
      "display_name": "Python 3",
      "name": "python3"
    },
    "language_info": {
      "codemirror_mode": {
        "name": "ipython",
        "version": 3
      },
      "file_extension": ".py",
      "mimetype": "text/x-python",
      "name": "python",
      "nbconvert_exporter": "python",
      "pygments_lexer": "ipython3",
      "version": "3.12.1"
    }
  },
  "nbformat": 4,
  "nbformat_minor": 0
}
